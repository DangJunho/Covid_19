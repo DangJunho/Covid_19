{
 "cells": [
  {
   "cell_type": "markdown",
   "metadata": {},
   "source": [
    "# Project Overview"
   ]
  },
  {
   "cell_type": "markdown",
   "metadata": {},
   "source": [
    "The purpose of this project is to observe if the median income per capita is correlated with the prices in rent. We will then train and test a machine learning algorithm to observe the accuracy of rent prices. We can then predict future rent prices based on the algorithm.\n",
    "\n",
    "This project will demonstrate data extraction, data cleaning, data analysis, data visualization, machine learning, and programming aptitude using the python programming language. Code may change, as I improve in writing a more cleaner script.\n",
    "\n",
    "Data Sources:\n",
    "\n",
    "Median Rental Prices by State- https://www.apartmentlist.com/rentonomics/rental-price-data/\n",
    "\n",
    "Income per capita by state- 2019: https://fred.stlouisfed.org/release/tables?rid=151&eid=257197\n",
    "\n",
    "Income per capita by state- 2018: https://fred.stlouisfed.org/release/tables?rid=151&eid=257197&od=2018-01-01#"
   ]
  },
  {
   "cell_type": "code",
   "execution_count": null,
   "metadata": {},
   "outputs": [],
   "source": [
    "import seaborn as sns\n",
    "import pandas as pd\n",
    "import numpy as np\n",
    "import matplotlib.pyplot as plt\n",
    "\n",
    "from sklearn.model_selection import train_test_split\n",
    "from sklearn.linear_model import LinearRegression\n",
    "from sklearn import metrics\n",
    "\n",
    "%matplotlib inline"
   ]
  },
  {
   "cell_type": "markdown",
   "metadata": {},
   "source": [
    "Here, we will import the data set from a csv file, showing the average rent prices in every state by year. The data will be grouped according to the state name 'Location'."
   ]
  },
  {
   "cell_type": "code",
   "execution_count": 41,
   "metadata": {},
   "outputs": [
    {
     "data": {
      "text/html": [
       "<div>\n",
       "<style scoped>\n",
       "    .dataframe tbody tr th:only-of-type {\n",
       "        vertical-align: middle;\n",
       "    }\n",
       "\n",
       "    .dataframe tbody tr th {\n",
       "        vertical-align: top;\n",
       "    }\n",
       "\n",
       "    .dataframe thead th {\n",
       "        text-align: right;\n",
       "    }\n",
       "</style>\n",
       "<table border=\"1\" class=\"dataframe\">\n",
       "  <thead>\n",
       "    <tr style=\"text-align: right;\">\n",
       "      <th></th>\n",
       "      <th>Price_2017_12</th>\n",
       "      <th>Price_2018_12</th>\n",
       "      <th>Price_2019_12</th>\n",
       "    </tr>\n",
       "    <tr>\n",
       "      <th>Location</th>\n",
       "      <th></th>\n",
       "      <th></th>\n",
       "      <th></th>\n",
       "    </tr>\n",
       "  </thead>\n",
       "  <tbody>\n",
       "    <tr>\n",
       "      <th>Alabama</th>\n",
       "      <td>868.4</td>\n",
       "      <td>886.8</td>\n",
       "      <td>905.2</td>\n",
       "    </tr>\n",
       "    <tr>\n",
       "      <th>Alaska</th>\n",
       "      <td>1329.0</td>\n",
       "      <td>1329.4</td>\n",
       "      <td>1325.6</td>\n",
       "    </tr>\n",
       "    <tr>\n",
       "      <th>Arizona</th>\n",
       "      <td>1149.6</td>\n",
       "      <td>1185.0</td>\n",
       "      <td>1226.2</td>\n",
       "    </tr>\n",
       "    <tr>\n",
       "      <th>Arkansas</th>\n",
       "      <td>786.4</td>\n",
       "      <td>788.2</td>\n",
       "      <td>795.2</td>\n",
       "    </tr>\n",
       "    <tr>\n",
       "      <th>California</th>\n",
       "      <td>1957.6</td>\n",
       "      <td>1994.6</td>\n",
       "      <td>2016.6</td>\n",
       "    </tr>\n",
       "  </tbody>\n",
       "</table>\n",
       "</div>"
      ],
      "text/plain": [
       "            Price_2017_12  Price_2018_12  Price_2019_12\n",
       "Location                                               \n",
       "Alabama             868.4          886.8          905.2\n",
       "Alaska             1329.0         1329.4         1325.6\n",
       "Arizona            1149.6         1185.0         1226.2\n",
       "Arkansas            786.4          788.2          795.2\n",
       "California         1957.6         1994.6         2016.6"
      ]
     },
     "execution_count": 41,
     "metadata": {},
     "output_type": "execute_result"
    }
   ],
   "source": [
    "house_data = pd.read_csv('Apartment_List_Rent_Data_State_2020.csv')\n",
    "ByState = house_data.groupby('Location').mean()\n",
    "Rent = ByState[['Price_2017_12','Price_2018_12','Price_2019_12']]\n",
    "Rent.head()"
   ]
  },
  {
   "cell_type": "markdown",
   "metadata": {},
   "source": [
    "Since we have multi level index columns from the two scraped dataframes, we will clean the indexes by dropping the top level and concatenating into one clean dataframe."
   ]
  },
  {
   "cell_type": "code",
   "execution_count": 95,
   "metadata": {},
   "outputs": [
    {
     "data": {
      "text/html": [
       "<div>\n",
       "<style scoped>\n",
       "    .dataframe tbody tr th:only-of-type {\n",
       "        vertical-align: middle;\n",
       "    }\n",
       "\n",
       "    .dataframe tbody tr th {\n",
       "        vertical-align: top;\n",
       "    }\n",
       "\n",
       "    .dataframe thead th {\n",
       "        text-align: right;\n",
       "    }\n",
       "</style>\n",
       "<table border=\"1\" class=\"dataframe\">\n",
       "  <thead>\n",
       "    <tr style=\"text-align: right;\">\n",
       "      <th></th>\n",
       "      <th>Name</th>\n",
       "      <th>2019</th>\n",
       "      <th>2018</th>\n",
       "      <th>Preceding  Period</th>\n",
       "      <th>Year Ago  from Period</th>\n",
       "    </tr>\n",
       "  </thead>\n",
       "  <tbody>\n",
       "    <tr>\n",
       "      <th>0</th>\n",
       "      <td>Alabama</td>\n",
       "      <td>43880</td>\n",
       "      <td>42240</td>\n",
       "      <td>40473</td>\n",
       "      <td>40473</td>\n",
       "    </tr>\n",
       "    <tr>\n",
       "      <th>1</th>\n",
       "      <td>Alaska</td>\n",
       "      <td>62102</td>\n",
       "      <td>59605</td>\n",
       "      <td>56800</td>\n",
       "      <td>56800</td>\n",
       "    </tr>\n",
       "    <tr>\n",
       "      <th>2</th>\n",
       "      <td>Arizona</td>\n",
       "      <td>46233</td>\n",
       "      <td>44414</td>\n",
       "      <td>42534</td>\n",
       "      <td>42534</td>\n",
       "    </tr>\n",
       "    <tr>\n",
       "      <th>3</th>\n",
       "      <td>Arkansas</td>\n",
       "      <td>44845</td>\n",
       "      <td>43292</td>\n",
       "      <td>41543</td>\n",
       "      <td>41543</td>\n",
       "    </tr>\n",
       "    <tr>\n",
       "      <th>4</th>\n",
       "      <td>California</td>\n",
       "      <td>66661</td>\n",
       "      <td>63711</td>\n",
       "      <td>60219</td>\n",
       "      <td>60219</td>\n",
       "    </tr>\n",
       "  </tbody>\n",
       "</table>\n",
       "</div>"
      ],
      "text/plain": [
       "         Name   2019   2018  Preceding  Period  Year Ago  from Period\n",
       "0     Alabama  43880  42240              40473                  40473\n",
       "1      Alaska  62102  59605              56800                  56800\n",
       "2     Arizona  46233  44414              42534                  42534\n",
       "3    Arkansas  44845  43292              41543                  41543\n",
       "4  California  66661  63711              60219                  60219"
      ]
     },
     "execution_count": 95,
     "metadata": {},
     "output_type": "execute_result"
    }
   ],
   "source": [
    "data2018 = pd.read_html('https://fred.stlouisfed.org/release/tables?rid=151&eid=257197&od=2018-01-01#.html')\n",
    "data2019 = pd.read_html('https://fred.stlouisfed.org/release/tables?rid=151&eid=257197')\n",
    "states19 = data2019[0].xs('Unnamed: 1_level_0', axis=1, drop_level=True)\n",
    "dollars19 = data2019[0].xs('Dollars', axis=1, drop_level=True)\n",
    "dollars18 = data2018[0].xs('Dollars', axis=1, drop_level=True)\n",
    "df19 = pd.concat([states19, dollars19], axis=1)[['Name','2019']]\n",
    "\n",
    "df = pd.concat([df19,dollars18], axis=1)\n",
    "df.rename({'Preceding Period': '2018'}, axis=1, inplace=True)\n",
    "df.head()"
   ]
  },
  {
   "cell_type": "markdown",
   "metadata": {},
   "source": [
    "We will graph 2019 and 2018's annual income using a stacked bar chart. As expected, the most recent data is more than the previous year because of rising cost of living and inflation of prices over time."
   ]
  },
  {
   "cell_type": "code",
   "execution_count": 96,
   "metadata": {},
   "outputs": [
    {
     "data": {
      "image/png": "[encoded data removed]",
      "text/plain": [
       "<Figure size 432x288 with 1 Axes>"
      ]
     },
     "metadata": {
      "needs_background": "light"
     },
     "output_type": "display_data"
    }
   ],
   "source": [
    "plt.bar(df['Name'],df['2019'],width=.5,label='2019')\n",
    "plt.bar(df['Name'],df['2018'],width=.5,label='2018')\n",
    "plt.xticks(size = 7.8,rotation=90)\n",
    "plt.xlabel('State')\n",
    "plt.ylabel('Median Income Per Capita')\n",
    "plt.title('Per Capita Personal Income by State (Annually)')\n",
    "plt.legend()\n",
    "plt.show()"
   ]
  },
  {
   "cell_type": "markdown",
   "metadata": {},
   "source": [
    "We will now train the machine learning model using ScikitLearn. Then we will evaluate the model to see if it is accurate for predicting future rent prices using the respective state's income."
   ]
  },
  {
   "cell_type": "code",
   "execution_count": 45,
   "metadata": {},
   "outputs": [],
   "source": [
    "X = df[['2019']]"
   ]
  },
  {
   "cell_type": "code",
   "execution_count": 46,
   "metadata": {},
   "outputs": [],
   "source": [
    "y = Rent['Price_2019_12']"
   ]
  },
  {
   "cell_type": "code",
   "execution_count": 47,
   "metadata": {},
   "outputs": [],
   "source": [
    "X_train, X_test, y_train, y_test = train_test_split(X, y, test_size=0.4, random_state=101)"
   ]
  },
  {
   "cell_type": "code",
   "execution_count": 48,
   "metadata": {},
   "outputs": [],
   "source": [
    "lm = LinearRegression()"
   ]
  },
  {
   "cell_type": "code",
   "execution_count": 49,
   "metadata": {},
   "outputs": [
    {
     "data": {
      "text/plain": [
       "LinearRegression(copy_X=True, fit_intercept=True, n_jobs=None, normalize=False)"
      ]
     },
     "execution_count": 49,
     "metadata": {},
     "output_type": "execute_result"
    }
   ],
   "source": [
    "lm.fit(X_train,y_train)"
   ]
  },
  {
   "cell_type": "code",
   "execution_count": 50,
   "metadata": {},
   "outputs": [
    {
     "name": "stdout",
     "output_type": "stream",
     "text": [
      "-57.24487504688068\n"
     ]
    }
   ],
   "source": [
    "print(lm.intercept_)"
   ]
  },
  {
   "cell_type": "code",
   "execution_count": 51,
   "metadata": {},
   "outputs": [
    {
     "data": {
      "text/plain": [
       "array([0.02237177])"
      ]
     },
     "execution_count": 51,
     "metadata": {},
     "output_type": "execute_result"
    }
   ],
   "source": [
    "lm.coef_"
   ]
  },
  {
   "cell_type": "code",
   "execution_count": 52,
   "metadata": {},
   "outputs": [
    {
     "data": {
      "text/html": [
       "<div>\n",
       "<style scoped>\n",
       "    .dataframe tbody tr th:only-of-type {\n",
       "        vertical-align: middle;\n",
       "    }\n",
       "\n",
       "    .dataframe tbody tr th {\n",
       "        vertical-align: top;\n",
       "    }\n",
       "\n",
       "    .dataframe thead th {\n",
       "        text-align: right;\n",
       "    }\n",
       "</style>\n",
       "<table border=\"1\" class=\"dataframe\">\n",
       "  <thead>\n",
       "    <tr style=\"text-align: right;\">\n",
       "      <th></th>\n",
       "      <th>Coeff</th>\n",
       "    </tr>\n",
       "  </thead>\n",
       "  <tbody>\n",
       "    <tr>\n",
       "      <th>2019</th>\n",
       "      <td>0.022372</td>\n",
       "    </tr>\n",
       "  </tbody>\n",
       "</table>\n",
       "</div>"
      ],
      "text/plain": [
       "         Coeff\n",
       "2019  0.022372"
      ]
     },
     "execution_count": 52,
     "metadata": {},
     "output_type": "execute_result"
    }
   ],
   "source": [
    "pd.DataFrame(lm.coef_,X.columns,columns=['Coeff'])"
   ]
  },
  {
   "cell_type": "code",
   "execution_count": 53,
   "metadata": {},
   "outputs": [],
   "source": [
    "predictions = lm.predict(X_test)"
   ]
  },
  {
   "cell_type": "code",
   "execution_count": 54,
   "metadata": {},
   "outputs": [
    {
     "data": {
      "text/plain": [
       "array([1127.04956115, 1031.2983817 , 1619.89967411, 1540.99443814,\n",
       "       1068.50263671, 1332.08684146, 1040.62741016, 1394.6383129 ,\n",
       "       1117.36258435,  889.88641783, 1138.59339494,  823.4870018 ,\n",
       "       1156.73690114, 1287.65650445, 1016.77910238,  946.01719102,\n",
       "       1149.15287081, 1530.68105176, 1120.31565811, 1412.20015306,\n",
       "       1025.43697772])"
      ]
     },
     "execution_count": 54,
     "metadata": {},
     "output_type": "execute_result"
    }
   ],
   "source": [
    "predictions"
   ]
  },
  {
   "cell_type": "markdown",
   "metadata": {},
   "source": [
    "Histogram Residuals Normally Distributed using Seaborn library"
   ]
  },
  {
   "cell_type": "code",
   "execution_count": 60,
   "metadata": {},
   "outputs": [
    {
     "data": {
      "text/plain": [
       "<matplotlib.axes._subplots.AxesSubplot at 0xd161bef348>"
      ]
     },
     "execution_count": 60,
     "metadata": {},
     "output_type": "execute_result"
    },
    {
     "data": {
      "image/png": "[encoded data removed]",
      "text/plain": [
       "<Figure size 432x288 with 1 Axes>"
      ]
     },
     "metadata": {},
     "output_type": "display_data"
    }
   ],
   "source": [
    "sns.distplot((y_test-predictions),bins=8)"
   ]
  },
  {
   "cell_type": "code",
   "execution_count": 74,
   "metadata": {},
   "outputs": [
    {
     "data": {
      "image/png": "[encoded data removed]",
      "text/plain": [
       "<Figure size 432x288 with 1 Axes>"
      ]
     },
     "metadata": {
      "needs_background": "light"
     },
     "output_type": "display_data"
    }
   ],
   "source": [
    "plt.scatter(y_test,predictions)\n",
    "plt.xlabel('Y Test(True Values)')\n",
    "plt.ylabel('Predicted Values')\n",
    "plt.show()"
   ]
  },
  {
   "cell_type": "markdown",
   "metadata": {},
   "source": [
    "R^2 value explains how much the variance is within the model. As we run this function, 71.69% is explained which is acceptable."
   ]
  },
  {
   "cell_type": "code",
   "execution_count": 65,
   "metadata": {},
   "outputs": [
    {
     "data": {
      "text/plain": [
       "0.7169065441834896"
      ]
     },
     "execution_count": 65,
     "metadata": {},
     "output_type": "execute_result"
    }
   ],
   "source": [
    "metrics.explained_variance_score(y_test,predictions)"
   ]
  }
 ],
 "metadata": {
  "kernelspec": {
   "display_name": "Python 3",
   "language": "python",
   "name": "python3"
  },
  "language_info": {
   "codemirror_mode": {
    "name": "ipython",
    "version": 3
   },
   "file_extension": ".py",
   "mimetype": "text/x-python",
   "name": "python",
   "nbconvert_exporter": "python",
   "pygments_lexer": "ipython3",
   "version": "3.7.6"
  }
 },
 "nbformat": 4,
 "nbformat_minor": 4
}
